{
 "cells": [
  {
   "cell_type": "markdown",
   "id": "f4a4526b",
   "metadata": {},
   "source": [
    "# Loops\n",
    "\n",
    "Loops allow for a program to excecute a code block many times.  There are two kinds of loops:\n",
    "\n",
    "- for\n",
    "- while\n",
    "\n",
    "A for loop is a loop that goes for some *fixed number* of times.  For example, \"do this 10 time\" or \"do this 1000 times\" or \"do this for each item in a list\""
   ]
  },
  {
   "cell_type": "code",
   "execution_count": null,
   "id": "296da767",
   "metadata": {},
   "outputs": [],
   "source": [
    "my_list = ['abc', 1, 5.677, True]\n",
    "my_list2 = ['2222', 1.888]\n",
    "\n",
    "# python makes it easy to iterate through the values of a list\n",
    "for item in my_list:\n",
    "    print(item)\n",
    "\n",
    "print(item)\n",
    "\n",
    "for item in my_list2:\n",
    "    print(item)"
   ]
  },
  {
   "cell_type": "markdown",
   "id": "3a16b92b",
   "metadata": {},
   "source": [
    "### \"pythonic\"\n",
    "\n",
    "Pythonic is when code is written to be especially beautiful in python.\n",
    "\n",
    "That is, the language developers made this a special feature, so people are happy when you use it."
   ]
  },
  {
   "cell_type": "code",
   "execution_count": 3,
   "id": "df8a9edf",
   "metadata": {},
   "outputs": [
    {
     "name": "stdout",
     "output_type": "stream",
     "text": [
      "abc\n",
      "1\n",
      "5.677\n",
      "True\n"
     ]
    }
   ],
   "source": [
    "my_list = ['abc', 1, 5.677, True]\n",
    "\n",
    "# python makes it easy to iterate through the values of a list\n",
    "for item in my_list:\n",
    "    print(item)"
   ]
  },
  {
   "cell_type": "code",
   "execution_count": 2,
   "id": "e11b9246",
   "metadata": {},
   "outputs": [
    {
     "name": "stdout",
     "output_type": "stream",
     "text": [
      "abc\n",
      "1\n",
      "5.677\n",
      "True\n"
     ]
    }
   ],
   "source": [
    "my_list = ['abc', 1, 5.677, True]\n",
    "\n",
    "# python makes it easy to iterate through the values of a list\n",
    "for i in range(len(my_list)):\n",
    "    print(my_list[i])"
   ]
  },
  {
   "cell_type": "markdown",
   "id": "96cc68f5",
   "metadata": {},
   "source": [
    "## the \"range\" type\n",
    "\n",
    "range() is a function in python that takes one input: an integer.  The function returns an object of type range.  This behaves like a list where its the values are the same as the indices.\n",
    "\n",
    "The range type exists because it can save space.  It doesn't need to store all of the values (which could take up a lot of space) it just stores 3 things:\n",
    "- current value\n",
    "- update value rule\n",
    "- stop value"
   ]
  },
  {
   "cell_type": "code",
   "execution_count": 3,
   "id": "4d3e0ed4",
   "metadata": {},
   "outputs": [
    {
     "name": "stdout",
     "output_type": "stream",
     "text": [
      "<class 'list'>\n",
      "<class 'tuple'>\n",
      "<class 'range'>\n"
     ]
    }
   ],
   "source": [
    "print(type(['a','b']))\n",
    "print(type(('a','b')))\n",
    "print(type(range(2)))"
   ]
  },
  {
   "cell_type": "code",
   "execution_count": 5,
   "id": "90aeeeef",
   "metadata": {},
   "outputs": [
    {
     "name": "stdout",
     "output_type": "stream",
     "text": [
      "range(0, 5)\n",
      "[0, 1, 2, 3, 4]\n"
     ]
    }
   ],
   "source": [
    "print(range(5))\n",
    "print(list(range(5))) # cast (force a type change) a range as a list "
   ]
  },
  {
   "cell_type": "code",
   "execution_count": 4,
   "id": "59651663",
   "metadata": {},
   "outputs": [
    {
     "name": "stdout",
     "output_type": "stream",
     "text": [
      "(1, 2, 3)\n",
      "[1, 2, 3]\n"
     ]
    },
    {
     "ename": "TypeError",
     "evalue": "'int' object is not iterable",
     "output_type": "error",
     "traceback": [
      "\u001b[0;31m---------------------------------------------------------------------------\u001b[0m",
      "\u001b[0;31mTypeError\u001b[0m                                 Traceback (most recent call last)",
      "Cell \u001b[0;32mIn[4], line 6\u001b[0m\n\u001b[1;32m      3\u001b[0m \u001b[38;5;28mprint\u001b[39m(my_tuple)\n\u001b[1;32m      4\u001b[0m \u001b[38;5;28mprint\u001b[39m(\u001b[38;5;28mlist\u001b[39m(my_tuple))\n\u001b[0;32m----> 6\u001b[0m \u001b[38;5;28mprint\u001b[39m(\u001b[38;5;28;43mlist\u001b[39;49m\u001b[43m(\u001b[49m\u001b[38;5;241;43m5\u001b[39;49m\u001b[43m)\u001b[49m)\n",
      "\u001b[0;31mTypeError\u001b[0m: 'int' object is not iterable"
     ]
    }
   ],
   "source": [
    "my_tuple = (1,2,3)\n",
    "\n",
    "print(my_tuple)\n",
    "print(list(my_tuple))\n",
    "\n",
    "print(list(5))"
   ]
  },
  {
   "cell_type": "markdown",
   "id": "5e205b04",
   "metadata": {},
   "source": [
    "The full form of a range is:\n",
    "\n",
    "range(start,stop,step)\n",
    "\n",
    "- the start value is default 0.\n",
    "- the stop value is required\n",
    "- the step rule is default +1"
   ]
  },
  {
   "cell_type": "code",
   "execution_count": null,
   "id": "e7805802",
   "metadata": {},
   "outputs": [
    {
     "name": "stdout",
     "output_type": "stream",
     "text": [
      "[63, True]\n"
     ]
    }
   ],
   "source": [
    "# slicing in lists\n",
    "my_list = ['abc', 63, 3.1453, True, ['one', 'two'], False]\n",
    "\n",
    "print(my_list[1:5:2]) # list[start:stop:step]"
   ]
  },
  {
   "cell_type": "code",
   "execution_count": 7,
   "id": "15214f5a",
   "metadata": {},
   "outputs": [
    {
     "name": "stdout",
     "output_type": "stream",
     "text": [
      "range(0, 10)\n",
      "[0, 1, 2, 3, 4, 5, 6, 7, 8, 9]\n",
      "[0, 1, 2, 3, 4, 5, 6, 7, 8, 9]\n",
      "[0, 1, 2, 3, 4, 5, 6, 7, 8, 9]\n"
     ]
    }
   ],
   "source": [
    "print(range(10))\n",
    "print(list(range(10)))\n",
    "print(list(range(0,10))) # make start explicit \n",
    "print(list(range(0,10,1))) # make start and step explicit "
   ]
  },
  {
   "cell_type": "code",
   "execution_count": 8,
   "id": "e66e29ff",
   "metadata": {},
   "outputs": [
    {
     "name": "stdout",
     "output_type": "stream",
     "text": [
      "[0, 1, 2, 3, 4, 5, 6, 7, 8, 9]\n",
      "[2, 3, 4, 5, 6, 7, 8, 9]\n",
      "[2, 4, 6, 8]\n",
      "[10, 9, 8, 7, 6, 5, 4, 3, 2, 1]\n"
     ]
    }
   ],
   "source": [
    "print(list(range(0,10,1)))\n",
    "print(list(range(2,10,1)))\n",
    "print(list(range(2,10,2)))\n",
    "print(list(range(10,0,-1)))"
   ]
  },
  {
   "cell_type": "code",
   "execution_count": 9,
   "id": "714d8e2c",
   "metadata": {},
   "outputs": [
    {
     "name": "stdout",
     "output_type": "stream",
     "text": [
      "do\n",
      "do\n",
      "do\n",
      "do\n",
      "do\n",
      "do\n",
      "do\n",
      "do\n",
      "do\n",
      "do\n"
     ]
    }
   ],
   "source": [
    "my_string = 'do'\n",
    "for i in range(10):\n",
    "    print(my_string)"
   ]
  },
  {
   "cell_type": "markdown",
   "id": "4b050277",
   "metadata": {},
   "source": [
    "## while loop\n",
    "\n",
    "A while loop is a loop that executes a block of code so long some condition is true."
   ]
  },
  {
   "cell_type": "code",
   "execution_count": null,
   "id": "a280b910",
   "metadata": {},
   "outputs": [
    {
     "name": "stdout",
     "output_type": "stream",
     "text": [
      "0\n",
      "1\n",
      "2\n",
      "3\n",
      "4\n",
      "5\n",
      "6\n",
      "7\n",
      "8\n",
      "9\n"
     ]
    }
   ],
   "source": [
    "a = 0\n",
    "while a < 10:\n",
    "    print(a)\n",
    "    a = a + 1"
   ]
  },
  {
   "cell_type": "code",
   "execution_count": 11,
   "id": "3255632c",
   "metadata": {},
   "outputs": [
    {
     "name": "stdout",
     "output_type": "stream",
     "text": [
      "0\n",
      "1\n",
      "2\n",
      "3\n",
      "4\n",
      "5\n",
      "6\n",
      "7\n",
      "8\n",
      "9\n"
     ]
    }
   ],
   "source": [
    "for i in range(10):\n",
    "    print(i)"
   ]
  },
  {
   "cell_type": "markdown",
   "id": "116de372",
   "metadata": {},
   "source": [
    "In python, a while loop can do everything.  Anything you can do with a for loop you can do with a while loop (see above).\n",
    "\n",
    "The reverse is not true. \n",
    "\n",
    "That is, a while loop is \"more powerful\" and can do things you can not do with a for loop.\n",
    "\n",
    "In python, there is no way to make an infinant loop using a for loop."
   ]
  },
  {
   "cell_type": "code",
   "execution_count": 5,
   "id": "ddb815b5",
   "metadata": {},
   "outputs": [
    {
     "name": "stdout",
     "output_type": "stream",
     "text": [
      "first i 0 updated i -1\n",
      "first i 1 updated i 0\n",
      "first i 2 updated i 1\n",
      "first i 3 updated i 2\n",
      "first i 4 updated i 3\n",
      "first i 5 updated i 4\n",
      "first i 6 updated i 5\n",
      "first i 7 updated i 6\n",
      "first i 8 updated i 7\n",
      "first i 9 updated i 8\n"
     ]
    }
   ],
   "source": [
    "for i in range(10):\n",
    "    print('first i', i, end=\" \")\n",
    "    i = i - 1\n",
    "    print('updated i',i)"
   ]
  },
  {
   "cell_type": "markdown",
   "id": "8c7825c7",
   "metadata": {},
   "source": [
    "The above shows that the python interpreter updates the iterable's value. You (the programmer) can not change this, even if you try."
   ]
  },
  {
   "cell_type": "code",
   "execution_count": 8,
   "id": "15b77c67",
   "metadata": {},
   "outputs": [
    {
     "name": "stdout",
     "output_type": "stream",
     "text": [
      "i =  0 j =  0\n",
      "i =  0 j =  1\n",
      "i =  0 j =  2\n",
      "i =  1 j =  0\n",
      "i =  1 j =  1\n",
      "i =  1 j =  2\n",
      "i =  2 j =  0\n",
      "i =  2 j =  1\n",
      "i =  2 j =  2\n",
      "i =  3 j =  0\n",
      "i =  3 j =  1\n",
      "i =  3 j =  2\n",
      "i =  4 j =  0\n",
      "i =  4 j =  1\n",
      "i =  4 j =  2\n"
     ]
    }
   ],
   "source": [
    "for i in range(5): # this is called the outer loop\n",
    "    for j in range(3): # this is called the inner loop\n",
    "        print('i = ', i, 'j = ', j)"
   ]
  },
  {
   "cell_type": "markdown",
   "id": "cc8993b4",
   "metadata": {},
   "source": [
    "## continue\n",
    "\n",
    "The word \"continue\" in python is used to interrupt a loop's execution, and then \"continue on to the next iteration\".\n",
    "\n",
    "That is, stop right now and go to the next one."
   ]
  },
  {
   "cell_type": "code",
   "execution_count": 9,
   "id": "5f5b991e",
   "metadata": {},
   "outputs": [
    {
     "name": "stdout",
     "output_type": "stream",
     "text": [
      "Alice\n",
      "Charlie\n"
     ]
    }
   ],
   "source": [
    "names = ['Alice', 'Bob', 'Charlie']\n",
    "\n",
    "for name in names:\n",
    "    if name == 'Bob':\n",
    "        continue\n",
    "    else:\n",
    "        print(name)"
   ]
  },
  {
   "cell_type": "markdown",
   "id": "a5064cb6",
   "metadata": {},
   "source": [
    "## break\n",
    "\n",
    "The word break in python is used to interrupt a loops execution entirely."
   ]
  },
  {
   "cell_type": "code",
   "execution_count": 10,
   "id": "1e8e55d8",
   "metadata": {},
   "outputs": [
    {
     "name": "stdout",
     "output_type": "stream",
     "text": [
      "Alice\n"
     ]
    }
   ],
   "source": [
    "names = ['Alice', 'Bob', 'Charlie']\n",
    "\n",
    "for name in names:\n",
    "    if name == 'Bob':\n",
    "        break\n",
    "    else:\n",
    "        print(name)"
   ]
  },
  {
   "cell_type": "markdown",
   "id": "88566bc9",
   "metadata": {},
   "source": [
    "## enumerate\n",
    "\n",
    "The function enumerate() takes an interable and returns, one by one, the index-value pair.\n",
    "\n",
    "It is encouraged to use to be \"pythonic\""
   ]
  },
  {
   "cell_type": "code",
   "execution_count": 12,
   "id": "f5b40a88",
   "metadata": {},
   "outputs": [
    {
     "name": "stdout",
     "output_type": "stream",
     "text": [
      "Alice is at position 0 in the list\n",
      "Bob is at position 1 in the list\n",
      "Charlie is at position 2 in the list\n"
     ]
    }
   ],
   "source": [
    "# This is considered \"ugly\"\n",
    "names = ['Alice', 'Bob', 'Charlie']\n",
    "\n",
    "# note: we want both the index and the value\n",
    "for i in range(len(names)):\n",
    "    print(names[i],'is at position',i,'in the list')"
   ]
  },
  {
   "cell_type": "code",
   "execution_count": 14,
   "id": "c2ab90f9",
   "metadata": {},
   "outputs": [
    {
     "name": "stdout",
     "output_type": "stream",
     "text": [
      "Alice is at position 0 in the list\n",
      "Bob is at position 1 in the list\n",
      "Charlie is at position 2 in the list\n"
     ]
    }
   ],
   "source": [
    "# let the beauty flow\n",
    "names = ['Alice', 'Bob', 'Charlie']\n",
    "\n",
    "# note: we want both the index and the value\n",
    " #enumerate(names) -> [(0,'Alice'),(1,'Bob'),(2,'Charlie')]\n",
    "for i,name in enumerate(names):\n",
    "    print(name,'is at position',i,'in the list')"
   ]
  },
  {
   "cell_type": "markdown",
   "id": "6d1d44f9",
   "metadata": {},
   "source": [
    "## Looping through a dictionary"
   ]
  },
  {
   "cell_type": "code",
   "execution_count": 17,
   "id": "0af56770",
   "metadata": {},
   "outputs": [
    {
     "name": "stdout",
     "output_type": "stream",
     "text": [
      "Alice\n",
      "Bob\n",
      "Charlie\n",
      "Alice\n",
      "Bob\n",
      "Charlie\n",
      "24\n",
      "13\n",
      "19\n"
     ]
    }
   ],
   "source": [
    "my_dict = {\"Alice\":24, \"Bob\": 13, \"Charlie\":19}\n",
    "\n",
    "for item in my_dict:\n",
    "    print(item)\n",
    "\n",
    "for item in my_dict.keys(): # this does the above explicitly\n",
    "    print(item)\n",
    "\n",
    "for item in my_dict.values():\n",
    "    print(item)"
   ]
  },
  {
   "cell_type": "markdown",
   "id": "ca6f9c5b",
   "metadata": {},
   "source": [
    "What if you want both the keys and values at the same time?"
   ]
  },
  {
   "cell_type": "code",
   "execution_count": null,
   "id": "1c74ea14",
   "metadata": {},
   "outputs": [
    {
     "name": "stdout",
     "output_type": "stream",
     "text": [
      "The first entry has key Alice and value 24\n",
      "The first entry has key Bob and value 13\n",
      "The first entry has key Charlie and value 19\n",
      "The first entry has key 0 and value Alice\n",
      "The first entry has key 1 and value Bob\n",
      "The first entry has key 2 and value Charlie\n",
      "The first entry has key Alice and value 24\n",
      "The first entry has key Bob and value 13\n",
      "The first entry has key Charlie and value 19\n"
     ]
    }
   ],
   "source": [
    "my_dict = {\"Alice\":24, \"Bob\": 13, \"Charlie\":19}\n",
    "\n",
    "# this is \"ugly\"\n",
    "for item in my_dict.keys(): \n",
    "    print('The first entry has key', item,'and value',my_dict[item])\n",
    "\n",
    "# an attempt at beauty, but this behaves different :( \n",
    "for item, val in enumerate(my_dict): \n",
    "    print('The first entry has key', item,'and value',val)\n",
    "\n",
    "# this is the beautiful, pythonic way.\n",
    "for item, val in my_dict.items(): \n",
    "    print('The first entry has key', item,'and value',val)"
   ]
  },
  {
   "cell_type": "code",
   "execution_count": null,
   "id": "815e50e2",
   "metadata": {},
   "outputs": [
    {
     "name": "stdout",
     "output_type": "stream",
     "text": [
      "[0, 1, 2, 3, 4, 5, 6, 7, 8, 9, 10, 11, 12, 13, 14, 15, 16, 17, 18, 19]\n"
     ]
    }
   ],
   "source": [
    "numbers = []\n",
    "\n",
    "for i in range(20):\n",
    "    numbers.append(i)\n",
    "\n",
    "print(numbers)"
   ]
  },
  {
   "cell_type": "code",
   "execution_count": null,
   "id": "1101322d",
   "metadata": {},
   "outputs": [
    {
     "name": "stdout",
     "output_type": "stream",
     "text": [
      "[1, 2, 3, 4, 5, 6, 7, 8, 9, 10, 11, 12, 13, 14, 15, 16, 17, 18, 19]\n"
     ]
    }
   ],
   "source": [
    "numbers = []\n",
    "\n",
    "for i in range(20):\n",
    "    numbers = numbers + [i]\n",
    "\n",
    "print(numbers)"
   ]
  },
  {
   "cell_type": "markdown",
   "id": "68f5551a",
   "metadata": {},
   "source": [
    "# Comprehension\n",
    "\n",
    "A comprehension in python is defining a sequence (list/dictionary/set/generator) using a single line of code."
   ]
  },
  {
   "cell_type": "code",
   "execution_count": null,
   "id": "b0c051e9",
   "metadata": {},
   "outputs": [
    {
     "name": "stdout",
     "output_type": "stream",
     "text": [
      "[0, 1, 2, 3, 4, 5, 6, 7, 8, 9, 10, 11, 12, 13, 14, 15, 16, 17, 18, 19]\n"
     ]
    }
   ],
   "source": [
    "# numbers = []\n",
    "# for i in range(20):\n",
    "#     numbers.append(i)\n",
    "# \n",
    "# the above 3 lines get compressed into a single line:\n",
    "numbers = [i for i in range(20)]\n",
    "\n",
    "print(numbers)"
   ]
  },
  {
   "cell_type": "code",
   "execution_count": null,
   "id": "4728b5d6",
   "metadata": {},
   "outputs": [
    {
     "name": "stdout",
     "output_type": "stream",
     "text": [
      "The first entry has key Alice and value 24\n",
      "The first entry has key Bob and value 13\n",
      "The first entry has key Charlie and value 19\n",
      "{'Alice': 'let in', 'Bob': 'told to scram!', 'Charlie': 'told to scram!'}\n"
     ]
    }
   ],
   "source": [
    "my_dict = {\"Alice\":24, \"Bob\": 13, \"Charlie\":19}\n",
    "\n",
    "bounced_dict = {}\n",
    "# Note: my_dict.items() looks like:\n",
    "# [(\"Alice\",24), (\"Bob\", 13), (\"Charlie\",19)]\n",
    "for key, val in my_dict.items(): \n",
    "    print('The first entry has key', key,'and value',val)\n",
    "    if val > 21:\n",
    "        bounced_dict[key] = 'let in'\n",
    "    else:\n",
    "        bounced_dict[key] = 'told to scram!'\n",
    "\n",
    "print(bounced_dict)\n",
    "\n"
   ]
  },
  {
   "cell_type": "markdown",
   "id": "a13ad536",
   "metadata": {},
   "source": [
    "#### dictionary comprehension"
   ]
  },
  {
   "cell_type": "code",
   "execution_count": null,
   "id": "c2b92771",
   "metadata": {},
   "outputs": [
    {
     "name": "stdout",
     "output_type": "stream",
     "text": [
      "{'Alice': 'let in', 'Bob': 'told to scram', 'Charlie': 'told to scram'}\n"
     ]
    }
   ],
   "source": [
    "my_dict = {\"Alice\":24, \"Bob\": 13, \"Charlie\":19}\n",
    "\n",
    "bounced_dict = {key:'let in' if val > 21 else 'told to scram' for key, val in my_dict.items()}\n",
    "\n",
    "print(bounced_dict)"
   ]
  },
  {
   "cell_type": "markdown",
   "id": "8ed30b7b",
   "metadata": {},
   "source": [
    "#### Set comprehension"
   ]
  },
  {
   "cell_type": "code",
   "execution_count": null,
   "id": "10e7d1e5",
   "metadata": {},
   "outputs": [
    {
     "name": "stdout",
     "output_type": "stream",
     "text": [
      "{'Bob', 'Alice', 'Charlie'}\n"
     ]
    }
   ],
   "source": [
    "my_dict = {\"Alice\":24, \"Bob\": 13, \"Charlie\":19}\n",
    "\n",
    "bounced_set = {key for key, _ in my_dict.items()}\n",
    "\n",
    "print(bounced_set)"
   ]
  },
  {
   "cell_type": "markdown",
   "id": "54b1ac3f",
   "metadata": {},
   "source": [
    "#### Generators\n",
    "\n",
    "Generators are memory efficient ways to store sequences (the range type is an example)"
   ]
  },
  {
   "cell_type": "code",
   "execution_count": 11,
   "id": "c72d4deb",
   "metadata": {},
   "outputs": [
    {
     "name": "stdout",
     "output_type": "stream",
     "text": [
      "<generator object <genexpr> at 0x7f3a1586af60>\n",
      "0\n",
      "1\n",
      "4\n",
      "9\n",
      "16\n",
      "25\n",
      "36\n",
      "49\n",
      "64\n",
      "81\n",
      "100\n",
      "121\n"
     ]
    }
   ],
   "source": [
    "squares = (x**2 for x in range(1000000000000000000))\n",
    "\n",
    "print(squares)\n",
    "for one_of_em in squares:\n",
    "    print(one_of_em)\n",
    "    if one_of_em > 100:\n",
    "        break"
   ]
  }
 ],
 "metadata": {
  "kernelspec": {
   "display_name": "engravings",
   "language": "python",
   "name": "python3"
  },
  "language_info": {
   "codemirror_mode": {
    "name": "ipython",
    "version": 3
   },
   "file_extension": ".py",
   "mimetype": "text/x-python",
   "name": "python",
   "nbconvert_exporter": "python",
   "pygments_lexer": "ipython3",
   "version": "3.12.7"
  }
 },
 "nbformat": 4,
 "nbformat_minor": 5
}

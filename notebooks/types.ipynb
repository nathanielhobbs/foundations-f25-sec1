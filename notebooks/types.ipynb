{
 "cells": [
  {
   "cell_type": "markdown",
   "id": "8eb333d1",
   "metadata": {},
   "source": [
    "# Dictionary\n",
    "\n",
    "A dictionary is a key-value store.  It is a collection of key-value pairs.  Every pair is made of up two parts: the key and the value.\n",
    "\n",
    "The data structure that this uses is a *hash-table* or *hash-map*.  These rely on a function called a \"hash function\".  A hash function takes \"anything\" as input, and outputs some random number.  Every time the same thing is given, the same random number is produced.  No two things should produce the same random number (this is called a \"collision\").\n",
    "\n",
    "Hash maps have no order (there is no \"first\" or \"second\" element in a dictionary), every element is a key-pair value.  You must know the keys (the key is given to the hash function to find the value).\n",
    "\n",
    "The syntax is { key1:value1, key2:value2, ...}"
   ]
  },
  {
   "cell_type": "code",
   "execution_count": 3,
   "id": "0c9719cc",
   "metadata": {},
   "outputs": [
    {
     "name": "stdout",
     "output_type": "stream",
     "text": [
      "uno\n",
      "dos\n"
     ]
    },
    {
     "ename": "KeyError",
     "evalue": "'dos'",
     "output_type": "error",
     "traceback": [
      "\u001b[0;31m---------------------------------------------------------------------------\u001b[0m",
      "\u001b[0;31mKeyError\u001b[0m                                  Traceback (most recent call last)",
      "Cell \u001b[0;32mIn[3], line 7\u001b[0m\n\u001b[1;32m      5\u001b[0m \u001b[38;5;28mprint\u001b[39m(my_dict[\u001b[38;5;124m'\u001b[39m\u001b[38;5;124mone\u001b[39m\u001b[38;5;124m'\u001b[39m])\n\u001b[1;32m      6\u001b[0m \u001b[38;5;28mprint\u001b[39m(my_dict[\u001b[38;5;124m'\u001b[39m\u001b[38;5;124mtwo\u001b[39m\u001b[38;5;124m'\u001b[39m])\n\u001b[0;32m----> 7\u001b[0m \u001b[38;5;28mprint\u001b[39m(\u001b[43mmy_dict\u001b[49m\u001b[43m[\u001b[49m\u001b[38;5;124;43m'\u001b[39;49m\u001b[38;5;124;43mdos\u001b[39;49m\u001b[38;5;124;43m'\u001b[39;49m\u001b[43m]\u001b[49m)\n",
      "\u001b[0;31mKeyError\u001b[0m: 'dos'"
     ]
    }
   ],
   "source": [
    "# this is contains two elements (key-value pairs). \n",
    "my_dict = {'one': 'uno', 'two': 'dos'}\n",
    "\n",
    "# dictionaries are also indexed using brackets [], but they use the keys\n",
    "print(my_dict['one'])\n",
    "print(my_dict['two'])\n",
    "print(my_dict['dos'])"
   ]
  },
  {
   "cell_type": "markdown",
   "id": "cb960b29",
   "metadata": {},
   "source": [
    "# Strings\n",
    "\n",
    "Strings are an array of characters (UTF-8 by default, think of this as all recognized characters of humans: english, chinese, hindi, emojies, ...)"
   ]
  },
  {
   "cell_type": "code",
   "execution_count": 8,
   "id": "11b65a7e",
   "metadata": {},
   "outputs": [
    {
     "name": "stdout",
     "output_type": "stream",
     "text": [
      "h\n",
      "!\n",
      "llo\n",
      "!ereht olleh\n",
      "my_string has 12 characters\n"
     ]
    }
   ],
   "source": [
    "my_string = 'hello there!'\n",
    "\n",
    "# strings are arrays so you can get individual characters out by indexing them\n",
    "print(my_string[0])\n",
    "print(my_string[-1])\n",
    "\n",
    "# you can also get ranges with a slice ([start=0:stop=-1:step=1])\n",
    "print(my_string[2:5]) # start=2, stop=5, step=1\n",
    "print(my_string[::-1]) # start=len(my_string), stop=0, step=-1\n",
    "\n",
    "# len() gives you the length of the arrray\n",
    "print('my_string has',len(my_string),'characters')\n"
   ]
  },
  {
   "cell_type": "markdown",
   "id": "b6af3489",
   "metadata": {},
   "source": [
    "There are many, many built in functions for strings (see documentation), but here is playing with a few:"
   ]
  },
  {
   "cell_type": "code",
   "execution_count": null,
   "id": "bbb84d9e",
   "metadata": {},
   "outputs": [
    {
     "name": "stdout",
     "output_type": "stream",
     "text": [
      "hey\n",
      "11\n",
      "----b----c\n"
     ]
    }
   ],
   "source": [
    "# strip() removes whitespace from the front and the back of a string\n",
    "print('    hey    '.strip())\n",
    "\n",
    "# find(char) finds the index of a particular character\n",
    "print('who are you?'.find('?'))\n",
    "\n",
    "# str.replace(old, new)  within string str replace all occurences of \"old\" with \"new\"\n",
    "print('abac'.replace('a','----'))"
   ]
  },
  {
   "cell_type": "markdown",
   "id": "004159e1",
   "metadata": {},
   "source": [
    "The pop function doesn't exist for strings, which annoys me.  Let's make it."
   ]
  },
  {
   "cell_type": "code",
   "execution_count": null,
   "id": "1084242e",
   "metadata": {},
   "outputs": [],
   "source": [
    "def strPop(s,idx):"
   ]
  },
  {
   "cell_type": "markdown",
   "id": "b1c86c6d",
   "metadata": {},
   "source": [
    "Write a function that takes \"in strings of the form \"<white space><last_name>,<first_name><whitespace>\" and outputs a string \"First_name Last_name\"\n",
    "\n",
    "e.g. fix('  hobbs, nathaniel  ') would output 'Nathaniel Hobbs'"
   ]
  },
  {
   "cell_type": "markdown",
   "id": "e889f42b",
   "metadata": {},
   "source": []
  },
  {
   "cell_type": "markdown",
   "id": "52ad871e",
   "metadata": {},
   "source": []
  }
 ],
 "metadata": {
  "kernelspec": {
   "display_name": "engravings",
   "language": "python",
   "name": "python3"
  },
  "language_info": {
   "codemirror_mode": {
    "name": "ipython",
    "version": 3
   },
   "file_extension": ".py",
   "mimetype": "text/x-python",
   "name": "python",
   "nbconvert_exporter": "python",
   "pygments_lexer": "ipython3",
   "version": "3.12.7"
  }
 },
 "nbformat": 4,
 "nbformat_minor": 5
}

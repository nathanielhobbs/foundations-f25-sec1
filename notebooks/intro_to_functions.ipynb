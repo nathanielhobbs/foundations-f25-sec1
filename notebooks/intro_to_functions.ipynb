{
 "cells": [
  {
   "cell_type": "markdown",
   "id": "a45fc4f4",
   "metadata": {},
   "source": [
    "# Functions\n",
    "\n",
    "A function (also called a \"method\") is a transformation between input and output.  \n",
    "\n",
    "Functions can have no inputs, 1 input, many inputs. Inputs can be named or not. Inputs can be optional or required. \n",
    "\n",
    "Functions in python *must have at least one output*, but it may have more."
   ]
  },
  {
   "cell_type": "code",
   "execution_count": 1,
   "id": "5eba5a93",
   "metadata": {},
   "outputs": [],
   "source": [
    "def firstFunction():\n",
    "    pass"
   ]
  },
  {
   "cell_type": "markdown",
   "id": "4dfaf5f2",
   "metadata": {},
   "source": [
    "Funtions in python begin with the word \"def\" and then a white space, then the name of the function, then paratheses (), which are for the inputs/arguments/parameters of the function, then a colon.\n",
    "\n",
    "A *block* is a collection of code that is meant to be grouped together.  These are specified in python with white space."
   ]
  },
  {
   "cell_type": "markdown",
   "id": "c9f3dfcd",
   "metadata": {},
   "source": [
    "The *pass* word is just a throw away word in python for making the grammar checker happy.  It's for things that aren't finished yet, but you don't want the python interpreter to complain.\n",
    "\n",
    "Below, we show what happens if you *don't* use the \"pass\" word. The interpreter will complain about a function definition needing *something* there to define it."
   ]
  },
  {
   "cell_type": "code",
   "execution_count": 2,
   "id": "d0ea313f",
   "metadata": {},
   "outputs": [
    {
     "ename": "SyntaxError",
     "evalue": "incomplete input (3388015951.py, line 2)",
     "output_type": "error",
     "traceback": [
      "\u001b[0;36m  Cell \u001b[0;32mIn[2], line 2\u001b[0;36m\u001b[0m\n\u001b[0;31m    \u001b[0m\n\u001b[0m    ^\u001b[0m\n\u001b[0;31mSyntaxError\u001b[0m\u001b[0;31m:\u001b[0m incomplete input\n"
     ]
    }
   ],
   "source": [
    "def firstFunction():\n",
    "    "
   ]
  },
  {
   "cell_type": "code",
   "execution_count": null,
   "id": "52e9094b",
   "metadata": {},
   "outputs": [
    {
     "ename": "SyntaxError",
     "evalue": "expected ':' (3315415717.py, line 1)",
     "output_type": "error",
     "traceback": [
      "\u001b[0;36m  Cell \u001b[0;32mIn[1], line 1\u001b[0;36m\u001b[0m\n\u001b[0;31m    def firstFunction()\u001b[0m\n\u001b[0m                       ^\u001b[0m\n\u001b[0;31mSyntaxError\u001b[0m\u001b[0;31m:\u001b[0m expected ':'\n"
     ]
    }
   ],
   "source": [
    "def firstFunction()\n",
    "    pass"
   ]
  },
  {
   "cell_type": "markdown",
   "id": "31bbac47",
   "metadata": {},
   "source": [
    "The above shows a \"punction error\" in python, that is, the missing colon is a syntax (that is, grammatical) error."
   ]
  },
  {
   "cell_type": "code",
   "execution_count": 2,
   "id": "592a75c1",
   "metadata": {},
   "outputs": [
    {
     "ename": "IndentationError",
     "evalue": "expected an indented block after function definition on line 1 (2002081208.py, line 2)",
     "output_type": "error",
     "traceback": [
      "\u001b[0;36m  Cell \u001b[0;32mIn[2], line 2\u001b[0;36m\u001b[0m\n\u001b[0;31m    pass\u001b[0m\n\u001b[0m    ^\u001b[0m\n\u001b[0;31mIndentationError\u001b[0m\u001b[0;31m:\u001b[0m expected an indented block after function definition on line 1\n"
     ]
    }
   ],
   "source": [
    "def firstFunction():\n",
    "pass"
   ]
  },
  {
   "cell_type": "markdown",
   "id": "af86f79c",
   "metadata": {},
   "source": [
    "The above shows the importance of *white space* in python for grouping code together. This group is called a \"block\"."
   ]
  },
  {
   "cell_type": "markdown",
   "id": "ec5b36b7",
   "metadata": {},
   "source": [
    "The number of spaces doesn't matter, on one hand, e.g., below we will show that the python interpreter doesn't care sometimes."
   ]
  },
  {
   "cell_type": "code",
   "execution_count": 1,
   "id": "aff31482",
   "metadata": {},
   "outputs": [],
   "source": [
    "def firstFunction():\n",
    " pass # one space\n",
    "\n",
    "def firstFunction():\n",
    "  pass # two space\n",
    "\n",
    "def firstFunction():\n",
    "   pass # three space\n",
    "\n",
    "def firstFunction():\n",
    "    pass # four space"
   ]
  },
  {
   "cell_type": "markdown",
   "id": "8027b8a6",
   "metadata": {},
   "source": [
    "However, there are times when the number of spaces matter *within a block*.  Here you must be consistant.  The python interpreter will complain (crash), e.g. below"
   ]
  },
  {
   "cell_type": "code",
   "execution_count": 11,
   "id": "0a8df8e6",
   "metadata": {},
   "outputs": [
    {
     "ename": "IndentationError",
     "evalue": "unexpected indent (2034458936.py, line 4)",
     "output_type": "error",
     "traceback": [
      "\u001b[0;36m  Cell \u001b[0;32mIn[11], line 4\u001b[0;36m\u001b[0m\n\u001b[0;31m    print('second thing the func does') # one space\u001b[0m\n\u001b[0m    ^\u001b[0m\n\u001b[0;31mIndentationError\u001b[0m\u001b[0;31m:\u001b[0m unexpected indent\n"
     ]
    }
   ],
   "source": [
    "# here is the function definition (this is a definition *not* \"using/calling/executing\")\n",
    "def firstFunction():\n",
    " print('first thing the func does') # one space\n",
    "  print('second thing the func does') # one space\n",
    "\n",
    "# This is running/calling/executing/using the function\n",
    "firstFunction()"
   ]
  },
  {
   "cell_type": "code",
   "execution_count": 5,
   "id": "da741277",
   "metadata": {},
   "outputs": [
    {
     "name": "stdout",
     "output_type": "stream",
     "text": [
      "first thing the func does\n",
      "second thing the func does\n",
      "\n",
      "first thing the func does\n",
      "second thing the func does\n"
     ]
    }
   ],
   "source": [
    "# here is the function definition (this is a definition *not* \"using/calling/executing\")\n",
    "def firstFunction():\n",
    "    print('first thing the func does') # one space\n",
    "    print('second thing the func does') # one space\n",
    "\n",
    "# This is running/calling/executing/using the function\n",
    "firstFunction()\n",
    "print()\n",
    "firstFunction()"
   ]
  },
  {
   "cell_type": "markdown",
   "id": "ebe83cbf",
   "metadata": {},
   "source": [
    "Each input to a function definition is represented with a variable name.\n",
    "\n",
    "Inputs can be required, optional, and allow for some variable number them.\n",
    "\n",
    "First, we'll look at a function with one required input."
   ]
  },
  {
   "cell_type": "code",
   "execution_count": 6,
   "id": "df074238",
   "metadata": {},
   "outputs": [
    {
     "name": "stdout",
     "output_type": "stream",
     "text": [
      "hi alice\n",
      "hi bob\n"
     ]
    }
   ],
   "source": [
    "# here, the print statement is *inside* the function\n",
    "def printHi(first_name):\n",
    "    print('hi',first_name)\n",
    "\n",
    "printHi('alice')\n",
    "printHi('bob')"
   ]
  },
  {
   "cell_type": "markdown",
   "id": "6f3d5ea6",
   "metadata": {},
   "source": [
    "This function is almost identical to the above one, but it has an *explicit* output.  This is the purpose of the word \"return\" in python (to specify the output of a function)"
   ]
  },
  {
   "cell_type": "code",
   "execution_count": 8,
   "id": "58e56a72",
   "metadata": {},
   "outputs": [
    {
     "name": "stdout",
     "output_type": "stream",
     "text": [
      "hi bob\n"
     ]
    }
   ],
   "source": [
    "def returnHi(first_name):\n",
    "    return 'hi' + ' ' + first_name\n",
    "\n",
    "returnHi('alice')\n",
    "print(returnHi('bob'))"
   ]
  },
  {
   "cell_type": "code",
   "execution_count": 9,
   "id": "272560b2",
   "metadata": {},
   "outputs": [
    {
     "name": "stdout",
     "output_type": "stream",
     "text": [
      "hi alice\n",
      "hi bob\n",
      "None\n"
     ]
    }
   ],
   "source": [
    "# here, the print statement is *inside* the function\n",
    "def printHi(first_name):\n",
    "    print('hi',first_name)\n",
    "\n",
    "printHi('alice')\n",
    "print(printHi('bob'))"
   ]
  },
  {
   "cell_type": "markdown",
   "id": "dd0ec0ab",
   "metadata": {},
   "source": [
    "### Function outputs (words: return, None)\n",
    "\n",
    "The word \"return\" is the word that specifies the output of a function.  There is *always* a single output for functions in python. (Inputs are more complicated, we'll see more momentarily).\n",
    "\n",
    "If you do not specifify an output yourself (use the word \"return\" somewhere in your function), then a default value will be used which is for the function to return the special type \"None\".\n",
    "\n",
    "\"None\" is a special type that represents \"nothing\". Other languages use a word like \"null\", but python tries to be closer to English and prefers the word \"None\" instead."
   ]
  },
  {
   "cell_type": "code",
   "execution_count": 10,
   "id": "532fa0a3",
   "metadata": {},
   "outputs": [
    {
     "name": "stdout",
     "output_type": "stream",
     "text": [
      "hi alice\n",
      "hi bob\n",
      "None\n"
     ]
    }
   ],
   "source": [
    "# This code is the same as above, but it's making the\n",
    "# replacing the default (implicit) output with and\n",
    "# explicit output using.\n",
    "def printHi(first_name):\n",
    "    print('hi',first_name)\n",
    "    return None\n",
    "\n",
    "printHi('alice')\n",
    "print(printHi('bob'))"
   ]
  },
  {
   "cell_type": "markdown",
   "id": "fda75a50",
   "metadata": {},
   "source": [
    "#### Outputs to functions are always a tuple\n",
    "\n",
    "A function can have \"many\" outputs, but they all get wrapped up in a single thing, the collection type tuple."
   ]
  },
  {
   "cell_type": "code",
   "execution_count": 14,
   "id": "06a3a628",
   "metadata": {},
   "outputs": [
    {
     "name": "stdout",
     "output_type": "stream",
     "text": [
      "(3, 4, 7)\n",
      "7\n",
      "4\n",
      "11\n",
      "18\n",
      "(2, 2, 4)\n",
      "2\n",
      "2\n",
      "4\n"
     ]
    }
   ],
   "source": [
    "def twoSum(a,b):\n",
    "    return a, b, a+b\n",
    "\n",
    "# this shows that the outputs are all \"wrapped up\" in a tuple\n",
    "print(twoSum(3,4))\n",
    "\n",
    "# you can capture each of the outputs independently by defining multiple variables\n",
    "# in a single line\n",
    "first, second, first_plus_second = twoSum(7,4)\n",
    "print(first)\n",
    "print(second)\n",
    "print(first_plus_second)\n",
    "\n",
    "# you can use the special character \"_\" to \"throw away\" a value to save space\n",
    "_, _, first_plus_second = twoSum(10,8)\n",
    "print(first_plus_second)\n",
    "\n",
    "# you can also get any output you want by treating it like a tuple\n",
    "output = twoSum(2,2)\n",
    "print(output)\n",
    "print(output[0])\n",
    "print(output[1])\n",
    "print(output[2])"
   ]
  },
  {
   "cell_type": "markdown",
   "id": "5b84367a",
   "metadata": {},
   "source": [
    "#### Optional inputs\n",
    "\n",
    "One kind of optional input is a \"keyword\" input.  This can be done by giving an  input a default value in the definition. \n",
    "\n",
    "Below, the \"required\" variable is required, but it is also called a \"positional\" argument (as opposed to a key-word argument).  That is because it will be assigned the value of the first position."
   ]
  },
  {
   "cell_type": "code",
   "execution_count": null,
   "id": "de8b628e",
   "metadata": {},
   "outputs": [
    {
     "name": "stdout",
     "output_type": "stream",
     "text": [
      "the value of the required input is 1\n",
      "the value of the optinal input is use this unless replaced\n",
      "\n",
      "the value of the required input is 5\n",
      "the value of the optinal input is 6\n"
     ]
    },
    {
     "ename": "TypeError",
     "evalue": "requiredOptionalFunc() missing 1 required positional argument: 'required'",
     "output_type": "error",
     "traceback": [
      "\u001b[0;31m---------------------------------------------------------------------------\u001b[0m",
      "\u001b[0;31mTypeError\u001b[0m                                 Traceback (most recent call last)",
      "Cell \u001b[0;32mIn[16], line 8\u001b[0m\n\u001b[1;32m      6\u001b[0m \u001b[38;5;28mprint\u001b[39m()\n\u001b[1;32m      7\u001b[0m requiredOptionalFunc(\u001b[38;5;241m5\u001b[39m,\u001b[38;5;241m6\u001b[39m) \u001b[38;5;66;03m# this replaces the default value\u001b[39;00m\n\u001b[0;32m----> 8\u001b[0m \u001b[43mrequiredOptionalFunc\u001b[49m\u001b[43m(\u001b[49m\u001b[43m)\u001b[49m \u001b[38;5;66;03m# This will crash, because the function requires one input\u001b[39;00m\n",
      "\u001b[0;31mTypeError\u001b[0m: requiredOptionalFunc() missing 1 required positional argument: 'required'"
     ]
    }
   ],
   "source": [
    "def requiredOptionalFunc(required, optional='use this unless replaced'):\n",
    "    print('the value of the required input is', required)\n",
    "    print('the value of the optinal input is', optional)\n",
    "\n",
    "requiredOptionalFunc(1) # this will take the default value\n",
    "print()\n",
    "requiredOptionalFunc(5,6) # this replaces the default value\n",
    "requiredOptionalFunc() # This will crash, because the function requires one input"
   ]
  },
  {
   "cell_type": "code",
   "execution_count": 3,
   "id": "0f080b20",
   "metadata": {},
   "outputs": [
    {
     "ename": "SyntaxError",
     "evalue": "invalid syntax (3807724263.py, line 1)",
     "output_type": "error",
     "traceback": [
      "\u001b[0;36m  Cell \u001b[0;32mIn[3], line 1\u001b[0;36m\u001b[0m\n\u001b[0;31m    requiredOptionalFunc(,1)\u001b[0m\n\u001b[0m                         ^\u001b[0m\n\u001b[0;31mSyntaxError\u001b[0m\u001b[0;31m:\u001b[0m invalid syntax\n"
     ]
    }
   ],
   "source": [
    "requiredOptionalFunc(,1)"
   ]
  },
  {
   "cell_type": "code",
   "execution_count": 2,
   "id": "e31e14c7",
   "metadata": {},
   "outputs": [
    {
     "name": "stdout",
     "output_type": "stream",
     "text": [
      "the value of the required input is \n",
      "the value of the optinal input is use this unless replaced\n"
     ]
    }
   ],
   "source": [
    "def requiredOptionalFunc(required, optional='use this unless replaced'):\n",
    "    print('the value of the required input is', required)\n",
    "    print('the value of the optinal input is', optional)\n",
    "    \n",
    "requiredOptionalFunc(_)"
   ]
  },
  {
   "cell_type": "markdown",
   "id": "0fe12d7e",
   "metadata": {},
   "source": [
    "#### Optional argument collections\n",
    "\n",
    "There are two ways have optional variables that are variables in the length, these are generally called *args and **kwargs.  We'll look at *args first.\n",
    "\n",
    "The * is a special character that goes before the variable which will be the \"left-over bin\". People mostly call this *args, but you could use other name like *left_overs or *whatever."
   ]
  },
  {
   "cell_type": "code",
   "execution_count": 3,
   "id": "9290228a",
   "metadata": {},
   "outputs": [
    {
     "name": "stdout",
     "output_type": "stream",
     "text": [
      "()\n",
      "(1,)\n",
      "(4, 5, 6, 14)\n"
     ]
    }
   ],
   "source": [
    "def zeroOrMore(*args):\n",
    "    print(args)\n",
    "\n",
    "zeroOrMore()\n",
    "zeroOrMore(1)\n",
    "zeroOrMore(4,5,6,14)"
   ]
  },
  {
   "cell_type": "code",
   "execution_count": null,
   "id": "497b38df",
   "metadata": {},
   "outputs": [
    {
     "ename": "NameError",
     "evalue": "name 'my_sum' is not defined",
     "output_type": "error",
     "traceback": [
      "\u001b[0;31m---------------------------------------------------------------------------\u001b[0m",
      "\u001b[0;31mNameError\u001b[0m                                 Traceback (most recent call last)",
      "Cell \u001b[0;32mIn[1], line 1\u001b[0m\n\u001b[0;32m----> 1\u001b[0m \u001b[43mmy_sum\u001b[49m(\u001b[38;5;241m1\u001b[39m,\u001b[38;5;241m2\u001b[39m)\n\u001b[1;32m      2\u001b[0m my_sum(\u001b[38;5;241m1\u001b[39m,\u001b[38;5;241m2\u001b[39m,\u001b[38;5;241m4895923\u001b[39m,\u001b[38;5;241m234\u001b[39m,\u001b[38;5;241m243\u001b[39m,\u001b[38;5;241m234\u001b[39m,\u001b[38;5;241m1236\u001b[39m,\u001b[38;5;241m48\u001b[39m,\u001b[38;5;241m235\u001b[39m,\u001b[38;5;241m456346\u001b[39m,\u001b[38;5;241m1212445\u001b[39m,\u001b[38;5;241m2132135\u001b[39m,\u001b[38;5;241m3246236\u001b[39m,\u001b[38;5;241m3453245\u001b[39m)\n",
      "\u001b[0;31mNameError\u001b[0m: name 'my_sum' is not defined"
     ]
    }
   ],
   "source": [
    "# as a motivation, think of wanting a sum function where you can sum as many (or few)\n",
    "# numbers as you want.  \n",
    "\n",
    "my_sum(1,2)\n",
    "my_sum(1,2,4895923,234,243,234,1236,48,235,456346,1212445,2132135,3246236,3453245)"
   ]
  },
  {
   "cell_type": "code",
   "execution_count": 6,
   "id": "5f12d920",
   "metadata": {},
   "outputs": [
    {
     "name": "stdout",
     "output_type": "stream",
     "text": [
      "the value of the required argument is 1 and the left overs are ()\n",
      "the value of the required argument is 4 and the left overs are (5, 67, 78, 9)\n",
      "the value of the required argument is bob and the left overs are ('alice', 42)\n"
     ]
    }
   ],
   "source": [
    "def oneOrMore(must_have, *left_overs):\n",
    "    print('the value of the required argument is', must_have,'and the left overs are', left_overs)\n",
    "\n",
    "oneOrMore(1)\n",
    "oneOrMore(4,5,67,78,9)\n",
    "oneOrMore('bob', 'alice', 42)"
   ]
  },
  {
   "cell_type": "code",
   "execution_count": 9,
   "id": "ae880a8c",
   "metadata": {},
   "outputs": [
    {
     "ename": "TypeError",
     "evalue": "oneOrMore() missing 1 required keyword-only argument: 'must_have'",
     "output_type": "error",
     "traceback": [
      "\u001b[0;31m---------------------------------------------------------------------------\u001b[0m",
      "\u001b[0;31mTypeError\u001b[0m                                 Traceback (most recent call last)",
      "Cell \u001b[0;32mIn[9], line 4\u001b[0m\n\u001b[1;32m      1\u001b[0m \u001b[38;5;28;01mdef\u001b[39;00m \u001b[38;5;21moneOrMore\u001b[39m(\u001b[38;5;241m*\u001b[39mleft_overs, must_have):\n\u001b[1;32m      2\u001b[0m     \u001b[38;5;28mprint\u001b[39m(\u001b[38;5;124m'\u001b[39m\u001b[38;5;124mthe value of the required argument is\u001b[39m\u001b[38;5;124m'\u001b[39m, must_have,\u001b[38;5;124m'\u001b[39m\u001b[38;5;124mand the left overs are\u001b[39m\u001b[38;5;124m'\u001b[39m, left_overs)\n\u001b[0;32m----> 4\u001b[0m \u001b[43moneOrMore\u001b[49m\u001b[43m(\u001b[49m\u001b[38;5;124;43m'\u001b[39;49m\u001b[38;5;124;43mbob\u001b[39;49m\u001b[38;5;124;43m'\u001b[39;49m\u001b[43m,\u001b[49m\u001b[43m \u001b[49m\u001b[38;5;124;43m'\u001b[39;49m\u001b[38;5;124;43malice\u001b[39;49m\u001b[38;5;124;43m'\u001b[39;49m\u001b[43m,\u001b[49m\u001b[43m \u001b[49m\u001b[38;5;241;43m42\u001b[39;49m\u001b[43m)\u001b[49m\n",
      "\u001b[0;31mTypeError\u001b[0m: oneOrMore() missing 1 required keyword-only argument: 'must_have'"
     ]
    }
   ],
   "source": [
    "def oneOrMore(*left_overs, must_have):\n",
    "    print('the value of the required argument is', must_have,'and the left overs are', left_overs)\n",
    "\n",
    "oneOrMore('bob', 'alice', 42)"
   ]
  },
  {
   "cell_type": "markdown",
   "id": "534e3d6c",
   "metadata": {},
   "source": [
    "# **kwargs\n",
    "\n",
    "The other kind of \"catch all\" special variable can be defined with **.  This will capture any \"left over\" keyword arguments (each one is a key=value) and store them in a *dictionary*.  \n",
    "\n",
    "The collection needs to store key-value pairs, and so the data structure that is used is a hash-table (aka hash-map). A dictionary is this kind of data structure in python."
   ]
  },
  {
   "cell_type": "code",
   "execution_count": 2,
   "id": "b8442ec7",
   "metadata": {},
   "outputs": [
    {
     "name": "stdout",
     "output_type": "stream",
     "text": [
      "In the language English , let me count, {'one': 'one', 'two': 'two', 'three': 'three'}\n",
      "In the language Spanish , let me count, {'one': 'uno', 'two': 'dos'}\n",
      "In the language binary , let me count, {'first': '000', 'second': '001', 'third': '010', 'fourth': '011', 'fifth': '100'}\n"
     ]
    }
   ],
   "source": [
    "# a natural time to want this might be if you want a single function\n",
    "# that can take in different vocabulary words, but you need their definitions as well\n",
    "def universalCounter(language,**kwargs):\n",
    "    print('In the language', language, ', let me count,', kwargs)\n",
    "\n",
    "universalCounter('English',one='one', two='two',three='three')\n",
    "universalCounter('Spanish',one='uno', two='dos')\n",
    "universalCounter('binary', first='000',second='001', third='010',fourth='011', fifth='100')"
   ]
  },
  {
   "cell_type": "markdown",
   "id": "097da1ef",
   "metadata": {},
   "source": []
  }
 ],
 "metadata": {
  "kernelspec": {
   "display_name": "engravings",
   "language": "python",
   "name": "python3"
  },
  "language_info": {
   "codemirror_mode": {
    "name": "ipython",
    "version": 3
   },
   "file_extension": ".py",
   "mimetype": "text/x-python",
   "name": "python",
   "nbconvert_exporter": "python",
   "pygments_lexer": "ipython3",
   "version": "3.12.7"
  }
 },
 "nbformat": 4,
 "nbformat_minor": 5
}
